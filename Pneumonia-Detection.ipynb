{
 "cells": [
  {
   "cell_type": "code",
   "execution_count": 21,
   "metadata": {},
   "outputs": [],
   "source": [
    "# Set of helper functions to preprocess the images and labels\n",
    "from preprocessing import *\n",
    "\n",
    "# TensorFlow and tf.keras\n",
    "import tensorflow as tf\n",
    "from tensorflow import keras\n",
    "\n",
    "# Helper libraries\n",
    "import numpy as np\n",
    "\n",
    "import random"
   ]
  },
  {
   "cell_type": "code",
   "execution_count": 22,
   "metadata": {},
   "outputs": [],
   "source": [
    "'''\n",
    "Pixel range: 0 to 255. Using this code to convert all pixel values from 0 to 1.\n",
    "'''\n",
    "PIXEL_RANGE = 255\n",
    "\n",
    "'''\n",
    "Resize images to this height.\n",
    "'''\n",
    "RESIZE_IMAGE_HEIGHT = 100\n",
    "\n",
    "'''\n",
    "Resize images to this width.\n",
    "'''\n",
    "RESIZE_IMAGE_WIDTH = 100\n",
    "\n",
    "'''\n",
    "All test and training images are JPEG.\n",
    "'''\n",
    "JPEG_FILE_EXTENSION = 'jpeg'"
   ]
  },
  {
   "cell_type": "code",
   "execution_count": 23,
   "metadata": {},
   "outputs": [],
   "source": [
    "'''\n",
    "Paths for training and testing data. Note to self: is it better if I moved these over to a JSON? \n",
    "'''\n",
    "TRAIN_NORMAL_LUNGS_DIR_PATH = '/Users/williambernard/Downloads/chest_xray/train/NORMAL/'\n",
    "\n",
    "TRAIN_PNEUMONIA_LUNGS_DIR_PATH = '/Users/williambernard/Downloads/chest_xray/train/PNEUMONIA/'\n",
    "\n",
    "TEST_NORMAL_LUNGS_DIR_PATH = '/Users/williambernard/Downloads/chest_xray/test/NORMAL/'\n",
    "\n",
    "TEST_PNEUMONIA_LUNGS_PATH_DIR_PATH = '/Users/williambernard/Downloads/chest_xray/test/PNEUMONIA/'"
   ]
  },
  {
   "cell_type": "code",
   "execution_count": 24,
   "metadata": {},
   "outputs": [],
   "source": [
    "def prepare_paths_to_images(path_to_lungs_with_pneumonia: str,\n",
    "                            path_to_lungs_without_pneumonia: str,\n",
    "                            file_extension: str):\n",
    "    \"\"\"\n",
    "    Goes through all the images in the training data and gets their absolute paths.\n",
    "\n",
    "    :param path_to_lungs_with_pneumonia: should be path to a directory\n",
    "    :param path_to_lungs_without_pneumonia: should be path to a directory\n",
    "    :param file_extension: jpg, png, etc. Do not include the \".\" in the extension\n",
    "    :return image_paths: Python list containing shuffled list of image paths\n",
    "    \"\"\"\n",
    "    file_extension_wildcard = '*.' + file_extension\n",
    "\n",
    "    lungs_without_pneumonia_image_paths = glob.glob(os.path.join(path_to_lungs_with_pneumonia,\n",
    "                                                                       file_extension_wildcard))\n",
    "    lungs_with_pneumonia_image_paths = glob.glob(os.path.join(path_to_lungs_without_pneumonia,\n",
    "                                                                    file_extension_wildcard))\n",
    "    image_paths = lungs_without_pneumonia_image_paths + lungs_with_pneumonia_image_paths\n",
    "\n",
    "    # This shuffles IN PLACE. You cannot do train_image_paths = random.shuffle(train_image_paths). \n",
    "    # It will return None.\n",
    "    random.shuffle(image_paths)\n",
    "\n",
    "    return image_paths"
   ]
  },
  {
   "cell_type": "code",
   "execution_count": 38,
   "metadata": {},
   "outputs": [],
   "source": [
    "'''\n",
    "Can I use this? https://ring-cache.readthedocs.io/en/stable/why.html#common-problems-of-cache\n",
    "'''\n",
    "def prepare_labels(image_paths: List[str]):\n",
    "    \"\"\"\n",
    "    Assigns labels to training data. Labels are either '1' (has pneumonia) or '0' (does not).\n",
    "\n",
    "    :param image_paths: Python list of file paths.\n",
    "    :return labels: Checks through all the images and determines if x-rays of lungs have pneumonia or do not.\n",
    "\n",
    "    \"\"\"\n",
    "    labels = []\n",
    "\n",
    "    for image_path in image_paths:\n",
    "        # Go through all the images and rename them to something more consistent\n",
    "        if 'bacteria' in image_path or 'virus' in image_path:\n",
    "            labels.append(1)\n",
    "        else:\n",
    "            labels.append(0)\n",
    "\n",
    "    labels = np.array(labels)\n",
    "    return labels"
   ]
  },
  {
   "cell_type": "code",
   "execution_count": 42,
   "metadata": {},
   "outputs": [],
   "source": [
    "'''\n",
    "Can I use this? https://ring-cache.readthedocs.io/en/stable/why.html#common-problems-of-cache\n",
    "'''\n",
    "def prepare_images_in_opencv_format(image_paths: List[str], num_rows: int, num_columns: int):\n",
    "    \"\"\"\n",
    "    Converts all images to OpenCV matrices. Returns all matrices in a single Numpy array.\n",
    "\n",
    "    :param image_paths: Python list of image paths\n",
    "    :param num_rows: should be a smallish number (< 100)?\n",
    "    :param num_columns: should be a smallish number (< 100)?\n",
    "    :return training_images: Python array of OpenCV matrices (they're really just individual Numpy matrices)\n",
    "    \"\"\"\n",
    "    opencv_images = []\n",
    "\n",
    "    for image_path in image_paths:\n",
    "        img = cv2.imread(image_path, cv2.IMREAD_GRAYSCALE)\n",
    "        opencv_images.append(cv2.resize(img, (num_rows, num_columns)))\n",
    "\n",
    "    opencv_images = np.array(opencv_images)\n",
    "    opencv_images = opencv_images / PIXEL_RANGE\n",
    "    return opencv_images\n"
   ]
  },
  {
   "cell_type": "code",
   "execution_count": 43,
   "metadata": {},
   "outputs": [],
   "source": [
    "train_image_paths = prepare_paths_to_images(TRAIN_PNEUMONIA_LUNGS_DIR_PATH, TRAIN_NORMAL_LUNGS_DIR_PATH, JPEG_FILE_EXTENSION)"
   ]
  },
  {
   "cell_type": "code",
   "execution_count": null,
   "metadata": {},
   "outputs": [],
   "source": []
  },
  {
   "cell_type": "code",
   "execution_count": 64,
   "metadata": {},
   "outputs": [],
   "source": [
    "train_images = prepare_images_in_opencv_format(train_image_paths,\n",
    "                                               RESIZE_IMAGE_HEIGHT,\n",
    "                                               RESIZE_IMAGE_WIDTH)"
   ]
  },
  {
   "cell_type": "code",
   "execution_count": 65,
   "metadata": {},
   "outputs": [],
   "source": [
    "train_labels = prepare_labels(train_image_paths)"
   ]
  },
  {
   "cell_type": "code",
   "execution_count": 66,
   "metadata": {},
   "outputs": [],
   "source": [
    "model = keras.Sequential([\n",
    "    keras.layers.Flatten(input_shape=(RESIZE_IMAGE_HEIGHT, RESIZE_IMAGE_WIDTH)), # Taking the picture and transforming it from a 2d array to a 1d array\n",
    "    keras.layers.Dense(128, activation='relu'),\n",
    "    keras.layers.Dense(128, activation='relu'),\n",
    "    keras.layers.Dense(128, activation='relu'),\n",
    "    keras.layers.Dense(1, activation='sigmoid')\n",
    "]\n",
    ")"
   ]
  },
  {
   "cell_type": "code",
   "execution_count": 67,
   "metadata": {},
   "outputs": [],
   "source": [
    "# train_images = train_images.reshape(-1, RESIZE_IMAGE_HEIGHT, RESIZE_IMAGE_WIDTH, 1)"
   ]
  },
  {
   "cell_type": "code",
   "execution_count": 68,
   "metadata": {},
   "outputs": [],
   "source": [
    "# from tensorflow.keras.preprocessing.image import ImageDataGenerator\n",
    "\n",
    "# training_images2 = np.array(training_images, copy=True)\n",
    "# training_labels2 = np.array(training_labels, copy=True)\n",
    "\n",
    "# datagen = ImageDataGenerator(\n",
    "#     featurewise_center=True,\n",
    "#     featurewise_std_normalization=True,\n",
    "#     rotation_range=20\n",
    "#     )\n",
    "\n",
    "# datagen.fit(training_images)\n",
    "\n",
    "# result_training = np.concatenate((training_images, training_images2), axis=0)\n",
    "# result_labels = np.concatenate((training_labels, training_labels2), axis=0)"
   ]
  },
  {
   "cell_type": "code",
   "execution_count": 69,
   "metadata": {},
   "outputs": [],
   "source": [
    "model.compile(optimizer='adam',\n",
    "             loss='binary_crossentropy',\n",
    "             metrics=['accuracy'])"
   ]
  },
  {
   "cell_type": "code",
   "execution_count": 70,
   "metadata": {},
   "outputs": [
    {
     "name": "stdout",
     "output_type": "stream",
     "text": [
      "Epoch 1/30\n",
      "5216/5216 [==============================] - 1s 260us/sample - loss: 0.3524 - accuracy: 0.8585\n",
      "Epoch 2/30\n",
      "5216/5216 [==============================] - 1s 213us/sample - loss: 0.1909 - accuracy: 0.9218\n",
      "Epoch 3/30\n",
      "5216/5216 [==============================] - 1s 196us/sample - loss: 0.1623 - accuracy: 0.9352\n",
      "Epoch 4/30\n",
      "5216/5216 [==============================] - 1s 190us/sample - loss: 0.1676 - accuracy: 0.9354\n",
      "Epoch 5/30\n",
      "5216/5216 [==============================] - 1s 201us/sample - loss: 0.1454 - accuracy: 0.9429\n",
      "Epoch 6/30\n",
      "5216/5216 [==============================] - 1s 205us/sample - loss: 0.1385 - accuracy: 0.9454\n",
      "Epoch 7/30\n",
      "5216/5216 [==============================] - 1s 208us/sample - loss: 0.1325 - accuracy: 0.9503\n",
      "Epoch 8/30\n",
      "5216/5216 [==============================] - 1s 202us/sample - loss: 0.1218 - accuracy: 0.9565\n",
      "Epoch 9/30\n",
      "5216/5216 [==============================] - 1s 195us/sample - loss: 0.1212 - accuracy: 0.9525\n",
      "Epoch 10/30\n",
      "5216/5216 [==============================] - 1s 204us/sample - loss: 0.1506 - accuracy: 0.9438\n",
      "Epoch 11/30\n",
      "5216/5216 [==============================] - 1s 233us/sample - loss: 0.1157 - accuracy: 0.9551\n",
      "Epoch 12/30\n",
      "5216/5216 [==============================] - 1s 239us/sample - loss: 0.1125 - accuracy: 0.9580\n",
      "Epoch 13/30\n",
      "5216/5216 [==============================] - 1s 205us/sample - loss: 0.1131 - accuracy: 0.9557\n",
      "Epoch 14/30\n",
      "5216/5216 [==============================] - 1s 206us/sample - loss: 0.0983 - accuracy: 0.9636\n",
      "Epoch 15/30\n",
      "5216/5216 [==============================] - 1s 208us/sample - loss: 0.1065 - accuracy: 0.9620\n",
      "Epoch 16/30\n",
      "5216/5216 [==============================] - 1s 206us/sample - loss: 0.1016 - accuracy: 0.9649\n",
      "Epoch 17/30\n",
      "5216/5216 [==============================] - 1s 245us/sample - loss: 0.0947 - accuracy: 0.9613\n",
      "Epoch 18/30\n",
      "5216/5216 [==============================] - 1s 203us/sample - loss: 0.0859 - accuracy: 0.9661\n",
      "Epoch 19/30\n",
      "5216/5216 [==============================] - 1s 204us/sample - loss: 0.1016 - accuracy: 0.9613\n",
      "Epoch 20/30\n",
      "5216/5216 [==============================] - 1s 207us/sample - loss: 0.0947 - accuracy: 0.9626\n",
      "Epoch 21/30\n",
      "5216/5216 [==============================] - 1s 207us/sample - loss: 0.0996 - accuracy: 0.9607\n",
      "Epoch 22/30\n",
      "5216/5216 [==============================] - 1s 219us/sample - loss: 0.0919 - accuracy: 0.9638\n",
      "Epoch 23/30\n",
      "5216/5216 [==============================] - 1s 224us/sample - loss: 0.1028 - accuracy: 0.9613\n",
      "Epoch 24/30\n",
      "5216/5216 [==============================] - 1s 212us/sample - loss: 0.0839 - accuracy: 0.9674\n",
      "Epoch 25/30\n",
      "5216/5216 [==============================] - 1s 223us/sample - loss: 0.0712 - accuracy: 0.9722\n",
      "Epoch 26/30\n",
      "5216/5216 [==============================] - 1s 232us/sample - loss: 0.0755 - accuracy: 0.9730\n",
      "Epoch 27/30\n",
      "5216/5216 [==============================] - 1s 235us/sample - loss: 0.0677 - accuracy: 0.9720\n",
      "Epoch 28/30\n",
      "5216/5216 [==============================] - 1s 232us/sample - loss: 0.0759 - accuracy: 0.9711\n",
      "Epoch 29/30\n",
      "5216/5216 [==============================] - 1s 247us/sample - loss: 0.0749 - accuracy: 0.9743\n",
      "Epoch 30/30\n",
      "5216/5216 [==============================] - 1s 207us/sample - loss: 0.0806 - accuracy: 0.9686\n"
     ]
    },
    {
     "data": {
      "text/plain": [
       "<tensorflow.python.keras.callbacks.History at 0xb31c7ca20>"
      ]
     },
     "execution_count": 70,
     "metadata": {},
     "output_type": "execute_result"
    }
   ],
   "source": [
    "model.fit(train_images, train_labels, epochs=30)"
   ]
  },
  {
   "cell_type": "code",
   "execution_count": 54,
   "metadata": {},
   "outputs": [
    {
     "ename": "NameError",
     "evalue": "name 'datagen' is not defined",
     "output_type": "error",
     "traceback": [
      "\u001b[0;31m---------------------------------------------------------------------------\u001b[0m",
      "\u001b[0;31mNameError\u001b[0m                                 Traceback (most recent call last)",
      "\u001b[0;32m<ipython-input-54-3a61c427f488>\u001b[0m in \u001b[0;36m<module>\u001b[0;34m\u001b[0m\n\u001b[1;32m      1\u001b[0m \u001b[0;31m# model.fit(training_images, training_labels, epochs=10)\u001b[0m\u001b[0;34m\u001b[0m\u001b[0;34m\u001b[0m\u001b[0;34m\u001b[0m\u001b[0m\n\u001b[1;32m      2\u001b[0m \u001b[0;31m# how do iget this to work????\u001b[0m\u001b[0;34m\u001b[0m\u001b[0;34m\u001b[0m\u001b[0;34m\u001b[0m\u001b[0m\n\u001b[0;32m----> 3\u001b[0;31m history = model.fit_generator(datagen.flow(result_training, result_labels, batch_size = 35),\n\u001b[0m\u001b[1;32m      4\u001b[0m                                           steps_per_epoch=len(training_images) / 32, epochs = 12)\n",
      "\u001b[0;31mNameError\u001b[0m: name 'datagen' is not defined"
     ]
    }
   ],
   "source": [
    "# # model.fit(training_images, training_labels, epochs=10)\n",
    "# # how do iget this to work????\n",
    "# history = model.fit_generator(datagen.flow(result_training, result_labels, batch_size = 35),\n",
    "#                                           steps_per_epoch=len(training_images) / 32, epochs = 12)"
   ]
  },
  {
   "cell_type": "code",
   "execution_count": null,
   "metadata": {},
   "outputs": [],
   "source": []
  },
  {
   "cell_type": "code",
   "execution_count": null,
   "metadata": {},
   "outputs": [],
   "source": []
  },
  {
   "cell_type": "code",
   "execution_count": null,
   "metadata": {},
   "outputs": [],
   "source": []
  },
  {
   "cell_type": "code",
   "execution_count": null,
   "metadata": {},
   "outputs": [],
   "source": []
  },
  {
   "cell_type": "code",
   "execution_count": null,
   "metadata": {},
   "outputs": [],
   "source": []
  }
 ],
 "metadata": {
  "kernelspec": {
   "display_name": "pneumonia-detection",
   "language": "python",
   "name": "pneumonia-detection"
  },
  "language_info": {
   "codemirror_mode": {
    "name": "ipython",
    "version": 3
   },
   "file_extension": ".py",
   "mimetype": "text/x-python",
   "name": "python",
   "nbconvert_exporter": "python",
   "pygments_lexer": "ipython3",
   "version": "3.7.3"
  }
 },
 "nbformat": 4,
 "nbformat_minor": 2
}
