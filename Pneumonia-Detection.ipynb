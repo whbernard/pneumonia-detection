{
 "cells": [
  {
   "cell_type": "code",
   "execution_count": 71,
   "metadata": {},
   "outputs": [],
   "source": [
    "import tensorflow as tf\n",
    "from tensorflow import keras\n",
    "\n",
    "# Helper libraries\n",
    "import numpy as np\n",
    "\n",
    "import random"
   ]
  },
  {
   "cell_type": "code",
   "execution_count": 22,
   "metadata": {},
   "outputs": [],
   "source": [
    "'''\n",
    "Pixel range: 0 to 255. Using this code to convert all pixel values from 0 to 1.\n",
    "'''\n",
    "PIXEL_RANGE = 255\n",
    "\n",
    "'''\n",
    "Resize images to this height.\n",
    "'''\n",
    "RESIZE_IMAGE_HEIGHT = 100\n",
    "\n",
    "'''\n",
    "Resize images to this width.\n",
    "'''\n",
    "RESIZE_IMAGE_WIDTH = 100\n",
    "\n",
    "'''\n",
    "All test and training images are JPEG.\n",
    "'''\n",
    "JPEG_FILE_EXTENSION = 'jpeg'"
   ]
  },
  {
   "cell_type": "code",
   "execution_count": 23,
   "metadata": {},
   "outputs": [],
   "source": [
    "'''\n",
    "Paths for training and testing data. Note to self: is it better if I moved these over to a JSON? \n",
    "'''\n",
    "TRAIN_NORMAL_LUNGS_DIR_PATH = '/Users/williambernard/Downloads/chest_xray/train/NORMAL/'\n",
    "\n",
    "TRAIN_PNEUMONIA_LUNGS_DIR_PATH = '/Users/williambernard/Downloads/chest_xray/train/PNEUMONIA/'\n",
    "\n",
    "TEST_NORMAL_LUNGS_DIR_PATH = '/Users/williambernard/Downloads/chest_xray/test/NORMAL/'\n",
    "\n",
    "TEST_PNEUMONIA_LUNGS_PATH_DIR_PATH = '/Users/williambernard/Downloads/chest_xray/test/PNEUMONIA/'"
   ]
  },
  {
   "cell_type": "code",
   "execution_count": 24,
   "metadata": {},
   "outputs": [],
   "source": [
    "def prepare_paths_to_images(path_to_lungs_with_pneumonia: str,\n",
    "                            path_to_lungs_without_pneumonia: str,\n",
    "                            file_extension: str):\n",
    "    \"\"\"\n",
    "    Goes through all the images in the training or testing data and gets their absolute paths.\n",
    "\n",
    "    :param path_to_lungs_with_pneumonia: should be path to a directory\n",
    "    :param path_to_lungs_without_pneumonia: should be path to a directory\n",
    "    :param file_extension: jpg, png, etc. Do not include the \".\" in the extension\n",
    "    :return image_paths: Python list containing shuffled list of image paths\n",
    "    \"\"\"\n",
    "    file_extension_wildcard = '*.' + file_extension\n",
    "\n",
    "    lungs_without_pneumonia_image_paths = glob.glob(os.path.join(path_to_lungs_with_pneumonia,\n",
    "                                                                 file_extension_wildcard))\n",
    "    lungs_with_pneumonia_image_paths = glob.glob(os.path.join(path_to_lungs_without_pneumonia,\n",
    "                                                              file_extension_wildcard))\n",
    "    image_paths = lungs_without_pneumonia_image_paths + lungs_with_pneumonia_image_paths\n",
    "\n",
    "    # This shuffles IN PLACE. You cannot do train_image_paths = random.shuffle(train_image_paths). \n",
    "    # It will return None.\n",
    "    random.shuffle(image_paths)\n",
    "\n",
    "    return image_paths"
   ]
  },
  {
   "cell_type": "code",
   "execution_count": 38,
   "metadata": {},
   "outputs": [],
   "source": [
    "'''\n",
    "Can I use this? https://ring-cache.readthedocs.io/en/stable/why.html#common-problems-of-cache\n",
    "'''\n",
    "def prepare_labels(image_paths: List[str]):\n",
    "    \"\"\"\n",
    "    Assigns labels to training or testing data. Labels are either '1' (has pneumonia) or '0' (does not).\n",
    "\n",
    "    :param image_paths: Python list of file paths.\n",
    "    :return labels: Checks through all the images and determines if x-rays of lungs have pneumonia or do not.\n",
    "\n",
    "    \"\"\"\n",
    "    labels = []\n",
    "\n",
    "    for image_path in image_paths:\n",
    "        # Go through all the images and rename them to something more consistent\n",
    "        if 'bacteria' in image_path or 'virus' in image_path:\n",
    "            labels.append(1)\n",
    "        else:\n",
    "            labels.append(0)\n",
    "\n",
    "    labels = np.array(labels)\n",
    "    return labels"
   ]
  },
  {
   "cell_type": "code",
   "execution_count": 42,
   "metadata": {},
   "outputs": [],
   "source": [
    "'''\n",
    "Can I use this? https://ring-cache.readthedocs.io/en/stable/why.html#common-problems-of-cache\n",
    "'''\n",
    "def prepare_images_in_opencv_format(image_paths: List[str], num_rows: int, num_columns: int):\n",
    "    \"\"\"\n",
    "    Converts all images to OpenCV matrices. Returns all matrices in a single Numpy array.\n",
    "\n",
    "    :param image_paths: Python list of image paths\n",
    "    :param num_rows: should be a smallish number (< 100)?\n",
    "    :param num_columns: should be a smallish number (< 100)?\n",
    "    :return training_images: Python array of OpenCV matrices (they're really just individual Numpy matrices)\n",
    "    \"\"\"\n",
    "    opencv_images = []\n",
    "\n",
    "    for image_path in image_paths:\n",
    "        img = cv2.imread(image_path, cv2.IMREAD_GRAYSCALE)\n",
    "        opencv_images.append(cv2.resize(img, (num_rows, num_columns)))\n",
    "\n",
    "    opencv_images = np.array(opencv_images)\n",
    "    opencv_images = opencv_images / PIXEL_RANGE\n",
    "    return opencv_images\n"
   ]
  },
  {
   "cell_type": "code",
   "execution_count": 124,
   "metadata": {},
   "outputs": [],
   "source": [
    "train_image_paths = prepare_paths_to_images(TRAIN_PNEUMONIA_LUNGS_DIR_PATH, \n",
    "                                            TRAIN_NORMAL_LUNGS_DIR_PATH, \n",
    "                                            JPEG_FILE_EXTENSION)"
   ]
  },
  {
   "cell_type": "code",
   "execution_count": 125,
   "metadata": {},
   "outputs": [],
   "source": [
    "train_images = prepare_images_in_opencv_format(train_image_paths,\n",
    "                                               RESIZE_IMAGE_HEIGHT,\n",
    "                                               RESIZE_IMAGE_WIDTH)"
   ]
  },
  {
   "cell_type": "code",
   "execution_count": 126,
   "metadata": {},
   "outputs": [],
   "source": [
    "train_labels = prepare_labels(train_image_paths)"
   ]
  },
  {
   "cell_type": "code",
   "execution_count": 127,
   "metadata": {},
   "outputs": [],
   "source": [
    "train_images = train_images.reshape((-1, 100, 100, 1))"
   ]
  },
  {
   "cell_type": "code",
   "execution_count": 134,
   "metadata": {},
   "outputs": [],
   "source": [
    "test_image_paths = prepare_paths_to_images(TEST_PNEUMONIA_LUNGS_PATH_DIR_PATH,\n",
    "                                           TEST_NORMAL_LUNGS_DIR_PATH,\n",
    "                                           JPEG_FILE_EXTENSION)"
   ]
  },
  {
   "cell_type": "code",
   "execution_count": 135,
   "metadata": {},
   "outputs": [],
   "source": [
    "test_images = prepare_images_in_opencv_format(test_image_paths,\n",
    "                                              RESIZE_IMAGE_HEIGHT,\n",
    "                                              RESIZE_IMAGE_WIDTH)"
   ]
  },
  {
   "cell_type": "code",
   "execution_count": 136,
   "metadata": {},
   "outputs": [],
   "source": [
    "test_labels = prepare_labels(test_image_paths)"
   ]
  },
  {
   "cell_type": "code",
   "execution_count": 137,
   "metadata": {},
   "outputs": [],
   "source": [
    "test_images = test_images.reshape((-1, 100, 100, 1))"
   ]
  },
  {
   "cell_type": "code",
   "execution_count": 138,
   "metadata": {},
   "outputs": [],
   "source": [
    "model = keras.Sequential([\n",
    "#     keras.layers.Flatten(input_shape=(RESIZE_IMAGE_HEIGHT, RESIZE_IMAGE_WIDTH)), # Taking the picture and transforming it from a 2d array to a 1d array\n",
    "#     keras.layers.Dense(128, activation='relu'),\n",
    "#     keras.layers.Dense(128, activation='relu'),\n",
    "#     keras.layers.Dense(128, activation='relu'),\n",
    "    keras.layers.Convolution2D(32, 3, 3, input_shape=(100, 100, 1), activation='relu'),\n",
    "#     keras.layers.Dense(1, activation='sigmoid')\n",
    "    keras.layers.MaxPooling2D(pool_size=(2, 2)),\n",
    "    keras.layers.Flatten(),\n",
    "    keras.layers.Dense(128, activation='relu'), \n",
    "    keras.layers.Dense(1, activation='sigmoid')\n",
    "]\n",
    ")"
   ]
  },
  {
   "cell_type": "code",
   "execution_count": 139,
   "metadata": {},
   "outputs": [],
   "source": [
    "# train_images = train_images.reshape(-1, RESIZE_IMAGE_HEIGHT, RESIZE_IMAGE_WIDTH, 1)"
   ]
  },
  {
   "cell_type": "code",
   "execution_count": 140,
   "metadata": {},
   "outputs": [],
   "source": [
    "# from tensorflow.keras.preprocessing.image import ImageDataGenerator\n",
    "\n",
    "# training_images2 = np.array(training_images, copy=True)\n",
    "# training_labels2 = np.array(training_labels, copy=True)\n",
    "\n",
    "# datagen = ImageDataGenerator(\n",
    "#     featurewise_center=True,\n",
    "#     featurewise_std_normalization=True,\n",
    "#     rotation_range=20\n",
    "#     )\n",
    "\n",
    "# datagen.fit(training_images)\n",
    "\n",
    "# result_training = np.concatenate((training_images, training_images2), axis=0)\n",
    "# result_labels = np.concatenate((training_labels, training_labels2), axis=0)"
   ]
  },
  {
   "cell_type": "code",
   "execution_count": 142,
   "metadata": {},
   "outputs": [],
   "source": [
    "model.compile(optimizer='adam',\n",
    "             loss='binary_crossentropy',\n",
    "             metrics=['accuracy'])"
   ]
  },
  {
   "cell_type": "code",
   "execution_count": null,
   "metadata": {},
   "outputs": [
    {
     "name": "stdout",
     "output_type": "stream",
     "text": [
      "Epoch 1/30\n",
      "5216/5216 [==============================] - 2s 413us/sample - loss: 0.2523 - accuracy: 0.9030\n",
      "Epoch 2/30\n",
      "5216/5216 [==============================] - 2s 352us/sample - loss: 0.1191 - accuracy: 0.9544\n",
      "Epoch 3/30\n",
      "5216/5216 [==============================] - 2s 370us/sample - loss: 0.1087 - accuracy: 0.9572\n",
      "Epoch 4/30\n",
      "5216/5216 [==============================] - 3s 496us/sample - loss: 0.0839 - accuracy: 0.9688\n",
      "Epoch 5/30\n",
      "5216/5216 [==============================] - 2s 428us/sample - loss: 0.0701 - accuracy: 0.9728\n",
      "Epoch 6/30\n",
      "5216/5216 [==============================] - 2s 367us/sample - loss: 0.0633 - accuracy: 0.9753\n",
      "Epoch 7/30\n",
      "5216/5216 [==============================] - 2s 387us/sample - loss: 0.0580 - accuracy: 0.9799\n",
      "Epoch 8/30\n",
      "5216/5216 [==============================] - 2s 367us/sample - loss: 0.0453 - accuracy: 0.9837\n",
      "Epoch 9/30\n",
      "5216/5216 [==============================] - 2s 353us/sample - loss: 0.0372 - accuracy: 0.9847\n",
      "Epoch 10/30\n",
      "5216/5216 [==============================] - 2s 366us/sample - loss: 0.0342 - accuracy: 0.9881\n",
      "Epoch 11/30\n",
      "5216/5216 [==============================] - 2s 361us/sample - loss: 0.0320 - accuracy: 0.9891\n",
      "Epoch 12/30\n",
      "5216/5216 [==============================] - 2s 362us/sample - loss: 0.0225 - accuracy: 0.9931\n",
      "Epoch 13/30\n",
      "5216/5216 [==============================] - 2s 364us/sample - loss: 0.0210 - accuracy: 0.9933\n",
      "Epoch 14/30\n",
      "5216/5216 [==============================] - 2s 364us/sample - loss: 0.0198 - accuracy: 0.9939\n",
      "Epoch 15/30\n",
      "5216/5216 [==============================] - 2s 370us/sample - loss: 0.0122 - accuracy: 0.9971\n",
      "Epoch 16/30\n",
      "5216/5216 [==============================] - 2s 365us/sample - loss: 0.0101 - accuracy: 0.9979\n",
      "Epoch 17/30\n",
      "5216/5216 [==============================] - 2s 367us/sample - loss: 0.0088 - accuracy: 0.9985\n",
      "Epoch 18/30\n",
      "5216/5216 [==============================] - 2s 359us/sample - loss: 0.0077 - accuracy: 0.9985\n",
      "Epoch 19/30\n",
      "5216/5216 [==============================] - 2s 358us/sample - loss: 0.0047 - accuracy: 0.9996\n",
      "Epoch 20/30\n",
      "5216/5216 [==============================] - 2s 361us/sample - loss: 0.0029 - accuracy: 1.0000\n",
      "Epoch 21/30\n",
      "5216/5216 [==============================] - 2s 353us/sample - loss: 0.0023 - accuracy: 1.0000\n",
      "Epoch 22/30\n",
      "5216/5216 [==============================] - 2s 382us/sample - loss: 0.0018 - accuracy: 1.0000\n",
      "Epoch 23/30\n",
      "5216/5216 [==============================] - 2s 367us/sample - loss: 0.0026 - accuracy: 1.0000\n",
      "Epoch 24/30\n",
      "5216/5216 [==============================] - 2s 355us/sample - loss: 0.0016 - accuracy: 1.0000\n",
      "Epoch 25/30\n",
      "5216/5216 [==============================] - 2s 362us/sample - loss: 0.0014 - accuracy: 1.0000\n",
      "Epoch 26/30\n",
      "5216/5216 [==============================] - 2s 361us/sample - loss: 0.0022 - accuracy: 0.9998\n",
      "Epoch 27/30\n",
      "5216/5216 [==============================] - 2s 360us/sample - loss: 0.0014 - accuracy: 1.0000\n",
      "Epoch 28/30\n",
      "5216/5216 [==============================] - 2s 375us/sample - loss: 0.0257 - accuracy: 0.9912\n",
      "Epoch 29/30\n",
      "5216/5216 [==============================] - 2s 379us/sample - loss: 0.0048 - accuracy: 0.9994\n",
      "Epoch 30/30\n",
      "1952/5216 [==========>...................] - ETA: 1s - loss: 0.0015 - accuracy: 1.0000"
     ]
    }
   ],
   "source": [
    "model.fit(train_images, train_labels, epochs=30)"
   ]
  },
  {
   "cell_type": "code",
   "execution_count": null,
   "metadata": {},
   "outputs": [],
   "source": [
    "test_loss, test_acc = model.evaluate(test_images, test_labels)\n",
    "\n",
    "print('\\nTest accuracy:', test_acc)\n",
    "\n",
    "\n",
    "# # model.fit(training_images, training_labels, epochs=10)\n",
    "# # how do iget this to work????\n",
    "# history = model.fit_generator(datagen.flow(result_training, result_labels, batch_size = 35),\n",
    "#                                           steps_per_epoch=len(training_images) / 32, epochs = 12)"
   ]
  },
  {
   "cell_type": "code",
   "execution_count": null,
   "metadata": {},
   "outputs": [],
   "source": []
  },
  {
   "cell_type": "code",
   "execution_count": null,
   "metadata": {},
   "outputs": [],
   "source": []
  },
  {
   "cell_type": "code",
   "execution_count": null,
   "metadata": {},
   "outputs": [],
   "source": []
  },
  {
   "cell_type": "code",
   "execution_count": null,
   "metadata": {},
   "outputs": [],
   "source": []
  },
  {
   "cell_type": "code",
   "execution_count": null,
   "metadata": {},
   "outputs": [],
   "source": []
  }
 ],
 "metadata": {
  "kernelspec": {
   "display_name": "pneumonia-detection",
   "language": "python",
   "name": "pneumonia-detection"
  },
  "language_info": {
   "codemirror_mode": {
    "name": "ipython",
    "version": 3
   },
   "file_extension": ".py",
   "mimetype": "text/x-python",
   "name": "python",
   "nbconvert_exporter": "python",
   "pygments_lexer": "ipython3",
   "version": "3.7.3"
  }
 },
 "nbformat": 4,
 "nbformat_minor": 2
}
